{
 "cells": [
  {
   "cell_type": "markdown",
   "metadata": {},
   "source": [
    "# Explicit Runge-Kutta"
   ]
  },
  {
   "cell_type": "markdown",
   "source": [
    "## First Order\n",
    "### Explicit Euler\n",
    "$k_i$ Values:<br>\n",
    "$$k_0 = h f{\\left(t_{n},y_{n} \\right)}$$\n",
    "\n",
    "Runge-Kutta Step Rule:<br>\n",
    "$$y_{n+1}=hk_{0}+y_n$$"
   ],
   "metadata": {
    "nteract": {
     "transient": {
      "deleting": false
     }
    }
   }
  },
  {
   "cell_type": "markdown",
   "source": [
    "## Second Order\n",
    "### Midpoint\n",
    "$k_i$ Values:<br>\n",
    "$$k_0 = h f{\\left(t_{n},y_{n} \\right)}$$<br>\n",
    "$$k_1 = h f{\\left(\\frac{h}{2} + t_{n},y_{n} + \\frac{k_{0}}{2} \\right)}$$\n",
    "\n",
    "Runge-Kutta Step Rule:<br>\n",
    "$$y_{n+1}=hk_1+y_n$$"
   ],
   "metadata": {
    "nteract": {
     "transient": {
      "deleting": false
     }
    }
   }
  },
  {
   "cell_type": "markdown",
   "source": [
    "# rk2_heun\n",
    "$$\\left[\\begin{matrix}h f{\\left(t_{n},y_{n} \\right)}\\\\h f{\\left(h + t_{n},y_{n} + k_{0} \\right)}\\end{matrix}\\right]$$\n",
    "\n",
    "Runge-Kutta Step Rule:<br>\n",
    "$$y_{n+1}=h\\left(\\frac{k_0}{2} + \\frac{k_1}{2}\\right)+y_{n}$$"
   ],
   "metadata": {
    "nteract": {
     "transient": {
      "deleting": false
     }
    }
   }
  },
  {
   "cell_type": "markdown",
   "source": [
    "# rk2_ralston\n",
    "$$\\left[\\begin{matrix}h f{\\left(t_{n},y_{n} \\right)}\\\\h f{\\left(\\frac{2 h}{3} + t_{n},y_{n} + \\frac{2 k_{0}}{3} \\right)}\\end{matrix}\\right]$$\n",
    "\n",
    "Runge-Kutta Step Rule:<br>\n",
    "$$y_{n+1}=h \\left(\\frac{k_{0}}{4} + \\frac{3 k_{1}}{4}\\right) + y_{n}$$"
   ],
   "metadata": {
    "collapsed": false
   }
  },
  {
   "cell_type": "markdown",
   "source": [
    "# rk3_kutta\n",
    "$$\\left[\\begin{matrix}h f{\\left(t_{n},y_{n} \\right)}\\\\h f{\\left(\\frac{h}{2} + t_{n},y_{n} + \\frac{k_{0}}{2} \\right)}\\\\h f{\\left(h + t_{n},y_{n} - k_{0} + 2 k_{1} \\right)}\\end{matrix}\\right]$$\n",
    "\n",
    "Runge-Kutta Step Rule:<br>\n",
    "$$y_{n+1}=h \\left(\\frac{k_{0}}{6} + \\frac{2 k_{1}}{3} + \\frac{k_{2}}{6}\\right) + y_{n}$$"
   ],
   "metadata": {
    "collapsed": false
   }
  },
  {
   "cell_type": "markdown",
   "source": [
    "# rk3_heun\n",
    "$$\\left[\\begin{matrix}h f{\\left(t_{n},y_{n} \\right)}\\\\h f{\\left(\\frac{h}{3} + t_{n},y_{n} + \\frac{k_{0}}{3} \\right)}\\\\h f{\\left(\\frac{2 h}{3} + t_{n},y_{n} + \\frac{2 k_{1}}{3} \\right)}\\end{matrix}\\right]$$\n",
    "\n",
    "Runge-Kutta Step Rule:<br>\n",
    "$$y_{n+1}=h \\left(\\frac{k_{0}}{4} + \\frac{3 k_{2}}{4}\\right) + y_{n}$$"
   ],
   "metadata": {
    "collapsed": false
   }
  },
  {
   "cell_type": "markdown",
   "source": [
    "# rk3_ralston\n",
    "$$\\left[\\begin{matrix}h f{\\left(t_{n},y_{n} \\right)}\\\\h f{\\left(\\frac{h}{2} + t_{n},y_{n} + \\frac{k_{0}}{2} \\right)}\\\\h f{\\left(\\frac{3 h}{4} + t_{n},y_{n} + \\frac{3 k_{1}}{4} \\right)}\\end{matrix}\\right]$$\n",
    "\n",
    "Runge-Kutta Step Rule:<br>\n",
    "$$y_{n+1}=h \\left(\\frac{2 k_{0}}{9} + \\frac{k_{1}}{3} + \\frac{4 k_{2}}{9}\\right) + y_{n}$$"
   ],
   "metadata": {
    "collapsed": false
   }
  },
  {
   "cell_type": "markdown",
   "source": [
    "# ssprk3\n",
    "$$\\left[\\begin{matrix}h f{\\left(t_{n},y_{n} \\right)}\\\\h f{\\left(h + t_{n},y_{n} + k_{0} \\right)}\\\\h f{\\left(\\frac{h}{2} + t_{n},y_{n} + \\frac{k_{0}}{4} + \\frac{k_{1}}{4} \\right)}\\end{matrix}\\right]$$\n",
    "\n",
    "Runge-Kutta Step Rule:<br>\n",
    "$$y_{n+1}=h \\left(\\frac{k_{0}}{6} + \\frac{k_{1}}{6} + \\frac{2 k_{2}}{3}\\right) + y_{n}$$"
   ],
   "metadata": {
    "collapsed": false
   }
  },
  {
   "cell_type": "markdown",
   "source": [
    "# rk4\n",
    "$$\\left[\\begin{matrix}h f{\\left(t_{n},y_{n} \\right)}\\\\h f{\\left(\\frac{h}{2} + t_{n},y_{n} + \\frac{k_{0}}{2} \\right)}\\\\h f{\\left(\\frac{h}{2} + t_{n},y_{n} + \\frac{k_{1}}{2} \\right)}\\\\h f{\\left(h + t_{n},y_{n} + k_{2} \\right)}\\end{matrix}\\right]$$\n",
    "\n",
    "Runge-Kutta Step Rule:<br>\n",
    "$$y_{n+1}=h \\left(\\frac{k_{0}}{6} + \\frac{k_{1}}{3} + \\frac{k_{2}}{3} + \\frac{k_{3}}{6}\\right) + y_{n}$$"
   ],
   "metadata": {
    "collapsed": false
   }
  },
  {
   "cell_type": "markdown",
   "source": [
    "# rk4_38\n",
    "$$\\left[\\begin{matrix}h f{\\left(t_{n},y_{n} \\right)}\\\\h f{\\left(\\frac{h}{3} + t_{n},y_{n} + \\frac{k_{0}}{3} \\right)}\\\\h f{\\left(\\frac{2 h}{3} + t_{n},y_{n} - \\frac{k_{0}}{3} + k_{1} \\right)}\\\\h f{\\left(h + t_{n},y_{n} + k_{0} - k_{1} + k_{2} \\right)}\\end{matrix}\\right]$$\n",
    "\n",
    "Runge-Kutta Step Rule:<br>\n",
    "$$y_{n+1}=h \\left(\\frac{k_{0}}{8} + \\frac{3 k_{1}}{8} + \\frac{3 k_{2}}{8} + \\frac{k_{3}}{8}\\right) + y_{n}$$"
   ],
   "metadata": {
    "collapsed": false
   }
  },
  {
   "cell_type": "markdown",
   "source": [
    "# rk1_2_3f\n",
    "$$\\left[\\begin{matrix}h f{\\left(t_{n},y_{n} \\right)}\\\\h f{\\left(\\frac{h}{2} + t_{n},y_{n} + 0.5 k_{0} \\right)}\\\\h f{\\left(h + t_{n},y_{n} + 0.00390625 k_{0} + 0.99609375 k_{1} \\right)}\\end{matrix}\\right]$$\n",
    "\n",
    "Runge-Kutta Step Rule:<br>\n",
    "$$y_{n+1}=h \\left(\\frac{k_{0}}{256} + \\frac{255 k_{1}}{256}\\right) + y_{n}$$\n",
    "\n",
    "$$h \\left(\\frac{k_{1}}{512} + \\frac{255 k_{2}}{256}\\right) + y_{n}$$\n",
    "\n",
    "$$\\frac{h \\left(2 k_{0} + 509 k_{1} - 510 k_{2}\\right)}{512}$$"
   ],
   "metadata": {
    "collapsed": false
   }
  },
  {
   "cell_type": "markdown",
   "source": [
    "# rk1_2_2f\n",
    "$$\\left[\\begin{matrix}h f{\\left(t_{n},y_{n} \\right)}\\\\h f{\\left(h + t_{n},y_{n} + k_{0} \\right)}\\end{matrix}\\right]$$\n",
    "\n",
    "Runge-Kutta Step Rule:<br>\n",
    "$$y_{n+1}=h k_{0} + y_{n}$$\n",
    "\n",
    "$$\\frac{h k_{1}}{2} + y_{n}$$\n",
    "\n",
    "$$\\frac{h \\left(2 k_{0} - k_{1}\\right)}{2}$$"
   ],
   "metadata": {
    "collapsed": false
   }
  },
  {
   "cell_type": "markdown",
   "source": [
    "# rk23\n",
    "$$\\left[\\begin{matrix}h f{\\left(t_{n},y_{n} \\right)}\\\\h f{\\left(\\frac{h}{2} + t_{n},y_{n} + \\frac{k_{0}}{2} \\right)}\\\\h f{\\left(\\frac{h}{2} + t_{n},y_{n} + \\frac{k_{0}}{4} + \\frac{k_{1}}{4} \\right)}\\\\h f{\\left(h + t_{n},y_{n} - \\frac{143 k_{1}}{144} + \\frac{287 k_{2}}{144} \\right)}\\end{matrix}\\right]$$\n",
    "\n",
    "Runge-Kutta Step Rule:<br>\n",
    "$$y_{n+1}=h k_{2} + y_{n}$$\n",
    "\n",
    "$$h \\left(\\frac{k_{1}}{6} + \\frac{2 k_{3}}{3}\\right) + y_{n}$$\n",
    "\n",
    "$$\\frac{h \\left(- k_{1} + 6 k_{2} - 4 k_{3}\\right)}{6}$$"
   ],
   "metadata": {
    "collapsed": false
   }
  },
  {
   "cell_type": "markdown",
   "source": [
    "# rkf23_4\n",
    "$$\\left[\\begin{matrix}h f{\\left(t_{n},y_{n} \\right)}\\\\h f{\\left(\\frac{h}{4} + t_{n},y_{n} + \\frac{k_{0}}{4} \\right)}\\\\h f{\\left(\\frac{27 h}{40} + t_{n},y_{n} - \\frac{189 k_{0}}{800} + \\frac{729 k_{1}}{800} \\right)}\\\\h f{\\left(h + t_{n},y_{n} + \\frac{214 k_{0}}{891} + \\frac{k_{1}}{33} + \\frac{650 k_{2}}{891} \\right)}\\end{matrix}\\right]$$\n",
    "$$h \\left(\\frac{214 k_{0}}{891} + \\frac{k_{1}}{33} + \\frac{650 k_{2}}{891}\\right) + y_{n}$$\n",
    "$$h \\left(\\frac{41 k_{1}}{162} + \\frac{800 k_{3}}{1053}\\right) + y_{n}$$\n",
    "$$\\frac{h \\left(5564 k_{0} - 5161 k_{1} + 16900 k_{2} - 17600 k_{3}\\right)}{23166}$$"
   ],
   "metadata": {
    "collapsed": false
   }
  },
  {
   "cell_type": "markdown",
   "source": [
    "# rkf23_3\n",
    "$$\\left[\\begin{matrix}h f{\\left(t_{n},y_{n} \\right)}\\\\h f{\\left(h + t_{n},y_{n} + k_{0} \\right)}\\\\h f{\\left(\\frac{h}{2} + t_{n},y_{n} + \\frac{k_{0}}{4} + \\frac{k_{1}}{4} \\right)}\\end{matrix}\\right]$$\n",
    "$$h \\left(\\frac{k_{0}}{2} + \\frac{k_{1}}{2}\\right) + y_{n}$$\n",
    "$$h \\left(\\frac{k_{1}}{6} + \\frac{k_{2}}{6}\\right) + y_{n}$$\n",
    "$$\\frac{h \\left(3 k_{0} + 2 k_{1} - k_{2}\\right)}{6}$$"
   ],
   "metadata": {
    "collapsed": false
   }
  },
  {
   "cell_type": "markdown",
   "source": [
    "# rk3_2_4f\n",
    "$$\\left[\\begin{matrix}h f{\\left(t_{n},y_{n} \\right)}\\\\h f{\\left(\\frac{h}{2} + t_{n},y_{n} + \\frac{k_{0}}{2} \\right)}\\\\h f{\\left(\\frac{3 h}{4} + t_{n},y_{n} + \\frac{3 k_{1}}{4} \\right)}\\\\h f{\\left(h + t_{n},y_{n} + \\frac{2 k_{0}}{9} + \\frac{k_{1}}{3} + \\frac{4 k_{2}}{9} \\right)}\\end{matrix}\\right]$$\n",
    "$$h \\left(\\frac{2 k_{0}}{9} + \\frac{k_{1}}{3} + \\frac{4 k_{2}}{9}\\right) + y_{n}$$\n",
    "$$h \\left(\\frac{7 k_{1}}{24} + \\frac{k_{2}}{4} + \\frac{k_{3}}{3}\\right) + y_{n}$$\n",
    "$$\\frac{h \\left(16 k_{0} + 3 k_{1} + 14 k_{2} - 24 k_{3}\\right)}{72}$$"
   ],
   "metadata": {
    "collapsed": false
   }
  },
  {
   "cell_type": "markdown",
   "source": [
    "# rkf34_f1\n",
    "$$\\left[\\begin{matrix}h f{\\left(t_{n},y_{n} \\right)}\\\\h f{\\left(\\frac{h}{4} + t_{n},y_{n} + \\frac{k_{0}}{4} \\right)}\\\\h f{\\left(\\frac{4 h}{9} + t_{n},y_{n} + \\frac{4 k_{0}}{81} + \\frac{32 k_{1}}{81} \\right)}\\\\h f{\\left(\\frac{6 h}{7} + t_{n},y_{n} + \\frac{57 k_{0}}{98} - \\frac{432 k_{1}}{343} + \\frac{1053 k_{2}}{686} \\right)}\\\\h f{\\left(h + t_{n},y_{n} + \\frac{k_{0}}{6} + \\frac{27 k_{2}}{52} + \\frac{49 k_{3}}{156} \\right)}\\end{matrix}\\right]$$\n",
    "$$h \\left(\\frac{k_{0}}{6} + \\frac{27 k_{2}}{52} + \\frac{49 k_{3}}{156}\\right) + y_{n}$$\n",
    "$$h \\left(\\frac{43 k_{1}}{288} + \\frac{243 k_{3}}{416} + \\frac{343 k_{4}}{1872}\\right) + y_{n}$$\n",
    "$$\\frac{h \\left(624 k_{0} - 559 k_{1} + 1944 k_{2} - 1011 k_{3} - 686 k_{4}\\right)}{3744}$$"
   ],
   "metadata": {
    "collapsed": false
   }
  },
  {
   "cell_type": "markdown",
   "source": [
    "# rkf34_f2\n",
    "$$\\left[\\begin{matrix}h f{\\left(t_{n},y_{n} \\right)}\\\\h f{\\left(\\frac{2 h}{7} + t_{n},y_{n} + \\frac{2 k_{0}}{7} \\right)}\\\\h f{\\left(\\frac{7 h}{15} + t_{n},y_{n} + \\frac{77 k_{0}}{900} + \\frac{343 k_{1}}{900} \\right)}\\\\h f{\\left(\\frac{35 h}{38} + t_{n},y_{n} + \\frac{805 k_{0}}{1444} - \\frac{77175 k_{1}}{54872} + \\frac{97125 k_{2}}{54872} \\right)}\\\\h f{\\left(h + t_{n},y_{n} + \\frac{79 k_{0}}{490} + \\frac{2175 k_{2}}{3626} + \\frac{2166 k_{3}}{9065} \\right)}\\end{matrix}\\right]$$\n",
    "$$h \\left(\\frac{79 k_{0}}{490} + \\frac{2175 k_{2}}{3626} + \\frac{2166 k_{3}}{9065}\\right) + y_{n}$$\n",
    "$$h \\left(\\frac{229 k_{1}}{1470} + \\frac{1125 k_{3}}{1813} + \\frac{13718 k_{4}}{81585}\\right) + y_{n}$$\n",
    "$$\\frac{h \\left(26307 k_{0} - 25419 k_{1} + 97875 k_{2} - 62262 k_{3} - 27436 k_{4}\\right)}{163170}$$"
   ],
   "metadata": {
    "collapsed": false
   }
  },
  {
   "cell_type": "markdown",
   "source": [
    "# rkck32\n",
    "$$\\left[\\begin{matrix}h f{\\left(t_{n},y_{n} \\right)}\\\\h f{\\left(\\frac{h}{5} + t_{n},y_{n} + \\frac{k_{0}}{5} \\right)}\\\\h f{\\left(\\frac{3 h}{10} + t_{n},y_{n} + \\frac{3 k_{0}}{40} + \\frac{9 k_{1}}{40} \\right)}\\\\h f{\\left(\\frac{3 h}{5} + t_{n},y_{n} + \\frac{3 k_{0}}{10} - \\frac{9 k_{1}}{10} + \\frac{6 k_{2}}{5} \\right)}\\end{matrix}\\right]$$\n",
    "$$h \\left(\\frac{19 k_{0}}{54} - \\frac{10 k_{2}}{27} + \\frac{55 k_{3}}{54}\\right) + y_{n}$$\n",
    "$$h \\left(- \\frac{3 k_{1}}{2} + \\frac{5 k_{2}}{2}\\right) + y_{n}$$\n",
    "$$\\frac{h \\left(19 k_{0} + 81 k_{1} - 155 k_{2} + 55 k_{3}\\right)}{54}$$"
   ],
   "metadata": {
    "collapsed": false
   }
  },
  {
   "cell_type": "markdown",
   "source": [
    "# rkf45\n",
    "$$\\left[\\begin{matrix}h f{\\left(t_{n},y_{n} \\right)}\\\\h f{\\left(\\frac{h}{4} + t_{n},y_{n} + \\frac{k_{0}}{4} \\right)}\\\\h f{\\left(\\frac{3 h}{8} + t_{n},y_{n} + \\frac{3 k_{0}}{32} + \\frac{9 k_{1}}{32} \\right)}\\\\h f{\\left(\\frac{12 h}{13} + t_{n},y_{n} + \\frac{1932 k_{0}}{2197} - \\frac{7200 k_{1}}{2197} + \\frac{7296 k_{2}}{2197} \\right)}\\\\h f{\\left(h + t_{n},y_{n} + \\frac{439 k_{0}}{216} - 8 k_{1} + \\frac{3680 k_{2}}{513} - \\frac{845 k_{3}}{4104} \\right)}\\\\h f{\\left(\\frac{h}{2} + t_{n},y_{n} - \\frac{8 k_{0}}{27} + 2 k_{1} - \\frac{3544 k_{2}}{2565} + \\frac{1859 k_{3}}{4104} - \\frac{11 k_{4}}{40} \\right)}\\end{matrix}\\right]$$\n",
    "$$h \\left(\\frac{25 k_{0}}{216} + \\frac{1408 k_{2}}{2565} + \\frac{2197 k_{3}}{4104} - \\frac{k_{4}}{5}\\right) + y_{n}$$\n",
    "$$h \\left(\\frac{16 k_{1}}{135} + \\frac{6656 k_{3}}{12825} + \\frac{28561 k_{4}}{56430} - \\frac{9 k_{5}}{50}\\right) + y_{n}$$\n",
    "$$\\frac{h \\left(130625 k_{0} - 133760 k_{1} + 619520 k_{2} + 18447 k_{3} - 796940 k_{4} + 203148 k_{5}\\right)}{1128600}$$"
   ],
   "metadata": {
    "collapsed": false
   }
  },
  {
   "cell_type": "markdown",
   "source": [
    "# rkck43\n",
    "$$\n",
    "\\left[\\begin{matrix}h f{\\left(t_{n},y_{n} \\right)}\\\\h f{\\left(\\frac{h}{5} + t_{n},y_{n} + \\frac{k_{0}}{5} \\right)}\\\\h f{\\left(\\frac{3 h}{10} + t_{n},y_{n} + \\frac{3 k_{0}}{40} + \\frac{9 k_{1}}{40} \\right)}\\\\h f{\\left(\\frac{3 h}{5} + t_{n},y_{n} + \\frac{3 k_{0}}{10} - \\frac{9 k_{1}}{10} + \\frac{6 k_{2}}{5} \\right)}\\\\h f{\\left(h + t_{n},y_{n} - \\frac{11 k_{0}}{54} + \\frac{5 k_{1}}{2} - \\frac{70 k_{2}}{27} + \\frac{35 k_{3}}{27} \\right)}\\\\h f{\\left(\\frac{7 h}{8} + t_{n},y_{n} + \\frac{1631 k_{0}}{55296} + \\frac{175 k_{1}}{512} + \\frac{575 k_{2}}{13824} + \\frac{44275 k_{3}}{110592} + \\frac{253 k_{4}}{4096} \\right)}\\end{matrix}\\right]\n",
    "h \\left(\\frac{2825 k_{0}}{27648} + \\frac{18575 k_{2}}{48384} + \\frac{13525 k_{3}}{55296} + \\frac{277 k_{4}}{14336} + \\frac{k_{5}}{4}\\right) + y_{n}\n",
    "h \\left(\\frac{19 k_{1}}{54} - \\frac{10 k_{3}}{27} + \\frac{55 k_{4}}{54}\\right) + y_{n}\n",
    "\\frac{h \\left(39550 k_{0} - 136192 k_{1} + 148600 k_{2} + 238035 k_{3} - 386761 k_{4} + 96768 k_{5}\\right)}{387072}\n",
    "$$"
   ],
   "metadata": {
    "collapsed": false
   }
  },
  {
   "cell_type": "markdown",
   "source": [
    "# rkf45_f1\n",
    "$$\n",
    "\\left[\\begin{matrix}h f{\\left(t_{n},y_{n} \\right)}\\\\h f{\\left(\\frac{2 h}{9} + t_{n},y_{n} + \\frac{2 k_{0}}{9} \\right)}\\\\h f{\\left(\\frac{h}{3} + t_{n},y_{n} + \\frac{k_{0}}{12} + \\frac{k_{1}}{4} \\right)}\\\\h f{\\left(\\frac{3 h}{4} + t_{n},y_{n} + \\frac{69 k_{0}}{128} - \\frac{243 k_{1}}{128} + \\frac{135 k_{2}}{64} \\right)}\\\\h f{\\left(h + t_{n},y_{n} - \\frac{17 k_{0}}{12} + \\frac{27 k_{1}}{4} - \\frac{27 k_{2}}{5} + \\frac{16 k_{3}}{15} \\right)}\\\\h f{\\left(\\frac{5 h}{6} + t_{n},y_{n} + \\frac{65 k_{0}}{432} - \\frac{5 k_{1}}{16} + \\frac{13 k_{2}}{16} + \\frac{4 k_{3}}{27} + \\frac{5 k_{4}}{144} \\right)}\\end{matrix}\\right]\n",
    "h \\left(\\frac{k_{0}}{9} + \\frac{9 k_{2}}{20} + \\frac{16 k_{3}}{45} + \\frac{k_{4}}{12}\\right) + y_{n}\n",
    "h \\left(\\frac{47 k_{1}}{450} + \\frac{12 k_{3}}{25} + \\frac{32 k_{4}}{225} + \\frac{k_{5}}{30}\\right) + y_{n}\n",
    "\\frac{h \\left(100 k_{0} - 94 k_{1} + 405 k_{2} - 112 k_{3} - 53 k_{4} - 30 k_{5}\\right)}{900}\n",
    "$$"
   ],
   "metadata": {
    "collapsed": false
   }
  },
  {
   "cell_type": "markdown",
   "source": [
    "# rk4_5_6\n",
    "$$\n",
    "\\left[\\begin{matrix}h f{\\left(t_{n},y_{n} \\right)}\\\\h f{\\left(\\frac{h}{2} + t_{n},y_{n} + \\frac{k_{0}}{2} \\right)}\\\\h f{\\left(\\frac{h}{2} + t_{n},y_{n} + \\frac{k_{0}}{4} + \\frac{k_{1}}{4} \\right)}\\\\h f{\\left(h + t_{n},y_{n} - k_{1} + 2 k_{2} \\right)}\\\\h f{\\left(\\frac{2 h}{3} + t_{n},y_{n} + \\frac{7 k_{0}}{27} + \\frac{10 k_{1}}{27} + \\frac{k_{3}}{27} \\right)}\\\\h f{\\left(\\frac{h}{5} + t_{n},y_{n} + \\frac{28 k_{0}}{625} - \\frac{k_{1}}{5} + \\frac{546 k_{2}}{625} + \\frac{54 k_{3}}{625} - \\frac{378 k_{4}}{625} \\right)}\\end{matrix}\\right]\n",
    "h \\left(\\frac{k_{0}}{6} + \\frac{2 k_{2}}{3} + \\frac{k_{3}}{6}\\right) + y_{n}\n",
    "h \\left(\\frac{k_{1}}{24} + \\frac{5 k_{4}}{48} + \\frac{27 k_{5}}{56}\\right) + y_{n}\n",
    "\\frac{h \\left(56 k_{0} - 14 k_{1} + 224 k_{2} + 56 k_{3} - 35 k_{4} - 162 k_{5}\\right)}{336}\n",
    "$$"
   ],
   "metadata": {
    "collapsed": false
   }
  },
  {
   "cell_type": "markdown",
   "source": [
    "# dopri54fm\n",
    "$$\n",
    "\\left[\\begin{matrix}h f{\\left(t_{n},y_{n} \\right)}\\\\h f{\\left(\\frac{h}{5} + t_{n},y_{n} + \\frac{k_{0}}{5} \\right)}\\\\h f{\\left(\\frac{3 h}{10} + t_{n},y_{n} + \\frac{3 k_{0}}{40} + \\frac{9 k_{1}}{40} \\right)}\\\\h f{\\left(\\frac{4 h}{5} + t_{n},y_{n} + \\frac{44 k_{0}}{45} - \\frac{56 k_{1}}{15} + \\frac{32 k_{2}}{9} \\right)}\\\\h f{\\left(\\frac{8 h}{9} + t_{n},y_{n} + \\frac{19372 k_{0}}{6561} - \\frac{25360 k_{1}}{2187} + \\frac{64448 k_{2}}{6561} - \\frac{212 k_{3}}{729} \\right)}\\\\h f{\\left(h + t_{n},y_{n} + \\frac{9017 k_{0}}{3168} - \\frac{355 k_{1}}{33} + \\frac{46732 k_{2}}{5247} + \\frac{49 k_{3}}{176} - \\frac{5103 k_{4}}{18656} \\right)}\\\\h f{\\left(h + t_{n},y_{n} + \\frac{35 k_{0}}{384} + \\frac{500 k_{2}}{1113} + \\frac{125 k_{3}}{192} - \\frac{2187 k_{4}}{6784} + \\frac{11 k_{5}}{84} \\right)}\\end{matrix}\\right]\n",
    "h \\left(\\frac{35 k_{0}}{384} + \\frac{500 k_{2}}{1113} + \\frac{125 k_{3}}{192} - \\frac{2187 k_{4}}{6784} + \\frac{11 k_{5}}{84}\\right) + y_{n}\n",
    "h \\left(\\frac{5179 k_{1}}{57600} + \\frac{7571 k_{3}}{16695} + \\frac{393 k_{4}}{640} - \\frac{92097 k_{5}}{339200} + \\frac{187 k_{6}}{2100}\\right) + y_{n}\n",
    "\\frac{h \\left(1947750 k_{0} - 1921409 k_{1} + 9600000 k_{2} + 4221620 k_{3} - 20011320 k_{4} + 8600511 k_{5} - 1902912 k_{6}\\right)}{21369600}\n",
    "$$"
   ],
   "metadata": {
    "collapsed": false
   }
  },
  {
   "cell_type": "markdown",
   "source": [
    "# rk5_4_7f_eq3\n",
    "$$\n",
    "\\left[\\begin{matrix}h f{\\left(t_{n},y_{n} \\right)}\\\\h f{\\left(\\frac{11 h}{45} + t_{n},y_{n} + \\frac{11 k_{0}}{45} \\right)}\\\\h f{\\left(\\frac{11 h}{30} + t_{n},y_{n} + \\frac{11 k_{0}}{120} + \\frac{11 k_{1}}{40} \\right)}\\\\h f{\\left(\\frac{55 h}{56} + t_{n},y_{n} + \\frac{106865 k_{0}}{87808} - \\frac{408375 k_{1}}{87808} + \\frac{193875 k_{2}}{43904} \\right)}\\\\h f{\\left(\\frac{9 h}{10} + t_{n},y_{n} + \\frac{79503 k_{0}}{121000} - \\frac{1053 k_{1}}{440} + \\frac{147753 k_{2}}{56870} + \\frac{27048 k_{3}}{710875} \\right)}\\\\h f{\\left(h + t_{n},y_{n} + \\frac{89303 k_{0}}{78045} - \\frac{2025 k_{1}}{473} + \\frac{994650 k_{2}}{244541} - \\frac{2547216 k_{3}}{28122215} + \\frac{475 k_{4}}{2967} \\right)}\\\\h f{\\left(h + t_{n},y_{n} + \\frac{1247 k_{0}}{10890} + \\frac{57375 k_{2}}{108053} - \\frac{1229312 k_{3}}{1962015} + \\frac{125 k_{4}}{207} + \\frac{43 k_{5}}{114} \\right)}\\end{matrix}\\right]\n",
    "h \\left(\\frac{1247 k_{0}}{10890} + \\frac{57375 k_{2}}{108053} - \\frac{1229312 k_{3}}{1962015} + \\frac{125 k_{4}}{207} + \\frac{43 k_{5}}{114}\\right) + y_{n}\n",
    "h \\left(\\frac{21487 k_{1}}{185130} + \\frac{963225 k_{3}}{1836901} - \\frac{39864832 k_{4}}{33354255} + \\frac{2575 k_{5}}{3519} + \\frac{4472 k_{6}}{4845}\\right) + y_{n}\n",
    "\\frac{h \\left(435406261 k_{0} - 441321493 k_{1} + 2019026250 k_{2} - 4376282406 k_{3} + 6840717098 k_{4} - 1348131785 k_{5} - 3509652432 k_{6}\\right)}{3802385070}\n",
    "$$"
   ],
   "metadata": {
    "collapsed": false
   }
  },
  {
   "cell_type": "markdown",
   "source": [
    "# rk5_4_7f_eq1\n",
    "$$\n",
    "\\left[\\begin{matrix}h f{\\left(t_{n},y_{n} \\right)}\\\\h f{\\left(\\frac{2 h}{9} + t_{n},y_{n} + \\frac{2 k_{0}}{9} \\right)}\\\\h f{\\left(\\frac{h}{3} + t_{n},y_{n} + \\frac{k_{0}}{12} + \\frac{k_{1}}{4} \\right)}\\\\h f{\\left(\\frac{h}{2} + t_{n},y_{n} + \\frac{k_{0}}{8} + \\frac{3 k_{2}}{8} \\right)}\\\\h f{\\left(\\frac{3 h}{5} + t_{n},y_{n} + \\frac{91 k_{0}}{500} - \\frac{27 k_{1}}{100} + \\frac{78 k_{2}}{125} + \\frac{8 k_{3}}{125} \\right)}\\\\h f{\\left(h + t_{n},y_{n} - \\frac{11 k_{0}}{20} + \\frac{27 k_{1}}{20} + \\frac{12 k_{2}}{5} - \\frac{36 k_{3}}{5} + 5 k_{4} \\right)}\\\\h f{\\left(h + t_{n},y_{n} + \\frac{k_{0}}{12} + \\frac{27 k_{2}}{32} - \\frac{4 k_{3}}{3} + \\frac{125 k_{4}}{96} + \\frac{5 k_{5}}{48} \\right)}\\end{matrix}\\right]\n",
    "h \\left(\\frac{k_{0}}{12} + \\frac{27 k_{2}}{32} - \\frac{4 k_{3}}{3} + \\frac{125 k_{4}}{96} + \\frac{5 k_{5}}{48}\\right) + y_{n}\n",
    "h \\left(\\frac{2 k_{1}}{15} + \\frac{27 k_{3}}{80} - \\frac{2 k_{4}}{15} + \\frac{25 k_{5}}{48} + \\frac{k_{6}}{24}\\right) + y_{n}\n",
    "\\frac{h \\left(40 k_{0} - 64 k_{1} + 405 k_{2} - 802 k_{3} + 689 k_{4} - 200 k_{5} - 20 k_{6}\\right)}{480}\n",
    "$$"
   ],
   "metadata": {
    "collapsed": false
   }
  },
  {
   "cell_type": "markdown",
   "source": [
    "# rk5_4_7f_eq2\n",
    "$$\n",
    "\\left[\\begin{matrix}h f{\\left(t_{n},y_{n} \\right)}\\\\h f{\\left(\\frac{2 h}{13} + t_{n},y_{n} + \\frac{2 k_{0}}{13} \\right)}\\\\h f{\\left(\\frac{3 h}{13} + t_{n},y_{n} + \\frac{3 k_{0}}{52} + \\frac{9 k_{1}}{52} \\right)}\\\\h f{\\left(\\frac{5 h}{9} + t_{n},y_{n} + \\frac{12955 k_{0}}{26244} - \\frac{15925 k_{1}}{8748} + \\frac{12350 k_{2}}{6561} \\right)}\\\\h f{\\left(\\frac{3 h}{4} + t_{n},y_{n} - \\frac{10383 k_{0}}{52480} + \\frac{13923 k_{1}}{10496} - \\frac{176553 k_{2}}{199424} + \\frac{505197 k_{3}}{997120} \\right)}\\\\h f{\\left(h + t_{n},y_{n} + \\frac{1403 k_{0}}{7236} - \\frac{429 k_{1}}{268} + \\frac{733330 k_{2}}{309339} - \\frac{7884 k_{3}}{8911} + \\frac{104960 k_{4}}{113967} \\right)}\\\\h f{\\left(h + t_{n},y_{n} + \\frac{181 k_{0}}{2700} + \\frac{656903 k_{2}}{1846800} + \\frac{19683 k_{3}}{106400} + \\frac{2624 k_{4}}{8505} + \\frac{67 k_{5}}{800} \\right)}\\end{matrix}\\right]\n",
    "h \\left(\\frac{181 k_{0}}{2700} + \\frac{656903 k_{2}}{1846800} + \\frac{19683 k_{3}}{106400} + \\frac{2624 k_{4}}{8505} + \\frac{67 k_{5}}{800}\\right) + y_{n}\n",
    "h \\left(\\frac{11377 k_{1}}{154575} + \\frac{35378291 k_{3}}{105729300} + \\frac{343359 k_{4}}{1522850} + \\frac{535952 k_{5}}{1947645} + \\frac{134 k_{6}}{17175}\\right) + y_{n}\n",
    "\\frac{h \\left(396915624 k_{0} - 435784608 k_{1} + 2106031018 k_{2} - 885884395 k_{3} + 491744048 k_{4} - 1133423663 k_{5} - 46194624 k_{6}\\right)}{5920840800}\n",
    "$$"
   ],
   "metadata": {
    "collapsed": false
   }
  },
  {
   "cell_type": "markdown",
   "source": [
    "# rkck54\n",
    "$$\n",
    "\\left[\\begin{matrix}h f{\\left(t_{n},y_{n} \\right)}\\\\h f{\\left(\\frac{h}{5} + t_{n},y_{n} + \\frac{k_{0}}{5} \\right)}\\\\h f{\\left(\\frac{3 h}{10} + t_{n},y_{n} + \\frac{3 k_{0}}{40} + \\frac{9 k_{1}}{40} \\right)}\\\\h f{\\left(\\frac{3 h}{5} + t_{n},y_{n} + \\frac{3 k_{0}}{10} - \\frac{9 k_{1}}{10} + \\frac{6 k_{2}}{5} \\right)}\\\\h f{\\left(h + t_{n},y_{n} - \\frac{11 k_{0}}{54} + \\frac{5 k_{1}}{2} - \\frac{70 k_{2}}{27} + \\frac{35 k_{3}}{27} \\right)}\\\\h f{\\left(\\frac{7 h}{8} + t_{n},y_{n} + \\frac{1631 k_{0}}{55296} + \\frac{175 k_{1}}{512} + \\frac{575 k_{2}}{13824} + \\frac{44275 k_{3}}{110592} + \\frac{253 k_{4}}{4096} \\right)}\\end{matrix}\\right]\n",
    "h \\left(\\frac{2825 k_{0}}{27648} + \\frac{18575 k_{2}}{48384} + \\frac{13525 k_{3}}{55296} + \\frac{277 k_{4}}{14336} + \\frac{k_{5}}{4}\\right) + y_{n}\n",
    "h \\left(\\frac{37 k_{1}}{348} + \\frac{250 k_{3}}{621} + \\frac{125 k_{4}}{594}\\right) + y_{n}\n",
    "\\frac{h \\left(290178350 k_{0} - 301948416 k_{1} + 1090278200 k_{2} - 448665525 k_{3} - 542758577 k_{4} + 709986816 k_{5}\\right)}{2839947264}\n",
    "$$"
   ],
   "metadata": {
    "collapsed": false
   }
  },
  {
   "cell_type": "markdown",
   "source": [
    "# dopri54fc\n",
    "$$\n",
    "\\left[\\begin{matrix}h f{\\left(t_{n},y_{n} \\right)}\\\\h f{\\left(\\frac{h}{5} + t_{n},y_{n} + \\frac{k_{0}}{5} \\right)}\\\\h f{\\left(\\frac{3 h}{10} + t_{n},y_{n} + \\frac{3 k_{0}}{40} + \\frac{9 k_{1}}{40} \\right)}\\\\h f{\\left(\\frac{6 h}{13} + t_{n},y_{n} + \\frac{264 k_{0}}{2197} - \\frac{90 k_{1}}{2197} + \\frac{840 k_{2}}{2197} \\right)}\\\\h f{\\left(\\frac{2 h}{3} + t_{n},y_{n} + \\frac{932 k_{0}}{3645} - \\frac{14 k_{1}}{27} + \\frac{3256 k_{2}}{5103} + \\frac{7436 k_{3}}{25515} \\right)}\\\\h f{\\left(h + t_{n},y_{n} - \\frac{367 k_{0}}{513} + \\frac{30 k_{1}}{19} + \\frac{9940 k_{2}}{5643} - \\frac{29575 k_{3}}{8208} + \\frac{6615 k_{4}}{3344} \\right)}\\\\h f{\\left(h + t_{n},y_{n} + \\frac{35 k_{0}}{432} + \\frac{8500 k_{2}}{14553} - \\frac{28561 k_{3}}{84672} + \\frac{405 k_{4}}{704} + \\frac{19 k_{5}}{196} \\right)}\\end{matrix}\\right]\n",
    "h \\left(\\frac{35 k_{0}}{432} + \\frac{8500 k_{2}}{14553} - \\frac{28561 k_{3}}{84672} + \\frac{405 k_{4}}{704} + \\frac{19 k_{5}}{196}\\right) + y_{n}\n",
    "h \\left(\\frac{11 k_{1}}{108} + 6250 k_{3} + 14553 k_{4} + \\frac{2197 k_{5}}{21168} + \\frac{81 k_{6}}{176}\\right) + y_{n}\n",
    "\\frac{h \\left(75460 k_{0} - 94864 k_{1} + 544000 k_{2} - 5821514171 k_{3} - 13554011961 k_{4} - 6380 k_{5} - 428652 k_{6}\\right)}{931392}\n",
    "$$"
   ],
   "metadata": {
    "collapsed": false
   }
  },
  {
   "cell_type": "markdown",
   "source": [
    "# dopri54fs\n",
    "$$\n",
    "\\left[\\begin{matrix}h f{\\left(t_{n},y_{n} \\right)}\\\\h f{\\left(\\frac{2 h}{9} + t_{n},y_{n} + \\frac{2 k_{0}}{9} \\right)}\\\\h f{\\left(\\frac{h}{3} + t_{n},y_{n} + \\frac{k_{0}}{12} + \\frac{k_{1}}{4} \\right)}\\\\h f{\\left(\\frac{5 h}{9} + t_{n},y_{n} + \\frac{11 k_{0}}{65} - \\frac{25 k_{1}}{108} + \\frac{50 k_{2}}{81} \\right)}\\\\h f{\\left(\\frac{2 h}{3} + t_{n},y_{n} + \\frac{83 k_{0}}{330} - \\frac{13 k_{1}}{22} + \\frac{61 k_{2}}{66} + \\frac{9 k_{3}}{100} \\right)}\\\\h f{\\left(h + t_{n},y_{n} - \\frac{19 k_{0}}{28} + \\frac{9 k_{1}}{4} + \\frac{k_{2}}{7} - \\frac{27 k_{3}}{7} + \\frac{22 k_{4}}{7} \\right)}\\\\h f{\\left(h + t_{n},y_{n} + \\frac{19 k_{0}}{200} + \\frac{3 k_{2}}{5} - \\frac{243 k_{3}}{400} + \\frac{33 k_{4}}{40} + \\frac{7 k_{5}}{80} \\right)}\\end{matrix}\\right]\n",
    "h \\left(\\frac{19 k_{0}}{200} + \\frac{3 k_{2}}{5} - \\frac{243 k_{3}}{400} + \\frac{33 k_{4}}{40} + \\frac{7 k_{5}}{80}\\right) + y_{n}\n",
    "h \\left(\\frac{431 k_{1}}{5000} + \\frac{333 k_{3}}{500} - \\frac{7857 k_{4}}{10000} + \\frac{957 k_{5}}{1000} + \\frac{193 k_{6}}{2000}\\right) + y_{n}\n",
    "\\frac{h \\left(950 k_{0} - 862 k_{1} + 6000 k_{2} - 12735 k_{3} + 16107 k_{4} - 8695 k_{5} - 965 k_{6}\\right)}{10000}\n",
    "$$"
   ],
   "metadata": {
    "collapsed": false
   }
  },
  {
   "cell_type": "markdown",
   "source": [
    "# dopri54m\n",
    "$$\n",
    "\\left[\\begin{matrix}h f{\\left(t_{n},y_{n} \\right)}\\\\h f{\\left(\\frac{h}{5} + t_{n},y_{n} + \\frac{k_{0}}{5} \\right)}\\\\h f{\\left(\\frac{3 h}{10} + t_{n},y_{n} + \\frac{3 k_{0}}{40} + \\frac{9 k_{1}}{40} \\right)}\\\\h f{\\left(\\frac{3 h}{5} + t_{n},y_{n} + \\frac{3 k_{0}}{10} - \\frac{9 k_{1}}{10} + \\frac{6 k_{2}}{5} \\right)}\\\\h f{\\left(\\frac{2 h}{3} + t_{n},y_{n} + \\frac{226 k_{0}}{729} - \\frac{25 k_{1}}{27} + \\frac{880 k_{2}}{729} + \\frac{55 k_{3}}{729} \\right)}\\\\h f{\\left(h + t_{n},y_{n} - \\frac{181 k_{0}}{270} + \\frac{5 k_{1}}{2} - \\frac{266 k_{2}}{297} - \\frac{91 k_{3}}{27} + \\frac{189 k_{4}}{55} \\right)}\\end{matrix}\\right]\n",
    "h \\left(\\frac{19 k_{0}}{216} + \\frac{1000 k_{2}}{2079} - \\frac{125 k_{3}}{216} + \\frac{81 k_{4}}{88} + \\frac{5 k_{5}}{56}\\right) + y_{n}\n",
    "h \\left(\\frac{31 k_{1}}{540} + \\frac{190 k_{3}}{297} - \\frac{145 k_{4}}{108} + \\frac{351 k_{5}}{220}\\right) + y_{n}\n",
    "\\frac{h \\left(7315 k_{0} - 4774 k_{1} + 40000 k_{2} - 101325 k_{3} + 188195 k_{4} - 125253 k_{5}\\right)}{83160}\n",
    "$$"
   ],
   "metadata": {
    "collapsed": false
   }
  },
  {
   "cell_type": "markdown",
   "source": [
    "# rk56\n",
    "$$\n",
    "\\left[\\begin{matrix}h f{\\left(t_{n},y_{n} \\right)}\\\\h f{\\left(\\frac{h}{18} + t_{n},y_{n} + \\frac{k_{0}}{18} \\right)}\\\\h f{\\left(\\frac{h}{6} + t_{n},y_{n} - \\frac{k_{0}}{12} + \\frac{k_{1}}{4} \\right)}\\\\h f{\\left(\\frac{2 h}{9} + t_{n},y_{n} - \\frac{2 k_{0}}{81} + \\frac{4 k_{1}}{27} + \\frac{8 k_{2}}{81} \\right)}\\\\h f{\\left(\\frac{2 h}{3} + t_{n},y_{n} + \\frac{40 k_{0}}{33} - \\frac{4 k_{1}}{11} - \\frac{56 k_{2}}{11} + \\frac{54 k_{3}}{11} \\right)}\\\\h f{\\left(h + t_{n},y_{n} - \\frac{369 k_{0}}{73} + \\frac{72 k_{1}}{73} + \\frac{5380 k_{2}}{219} - \\frac{12285 k_{3}}{584} + \\frac{2695 k_{4}}{1752} \\right)}\\\\h f{\\left(\\frac{8 h}{9} + t_{n},y_{n} - \\frac{8716 k_{0}}{891} + \\frac{656 k_{1}}{297} + \\frac{39520 k_{2}}{891} - \\frac{416 k_{3}}{11} + \\frac{52 k_{4}}{27} \\right)}\\\\h f{\\left(h + t_{n},y_{n} + \\frac{3015 k_{0}}{256} - \\frac{9 k_{1}}{4} - \\frac{4219 k_{2}}{78} + \\frac{5985 k_{3}}{128} - \\frac{539 k_{4}}{384} + \\frac{693 k_{6}}{3328} \\right)}\\end{matrix}\\right]\n",
    "h \\left(\\frac{3 k_{0}}{80} + \\frac{4 k_{2}}{25} + \\frac{243 k_{3}}{1120} + \\frac{77 k_{4}}{160} + \\frac{73 k_{5}}{700}\\right) + y_{n}\n",
    "h \\left(\\frac{57 k_{1}}{640} - \\frac{16 k_{3}}{65} + \\frac{1377 k_{4}}{2240} + \\frac{121 k_{5}}{320} + \\frac{891 k_{7}}{8320}\\right) + y_{n}\n",
    "\\frac{h \\left(10920 k_{0} - 25935 k_{1} + 46592 k_{2} + 134860 k_{3} - 38870 k_{4} - 79742 k_{5} - 31185 k_{7}\\right)}{291200}\n",
    "$$"
   ],
   "metadata": {
    "collapsed": false
   }
  },
  {
   "cell_type": "markdown",
   "source": [
    "# rkf56\n",
    "$$\n",
    "\\left[\\begin{matrix}h f{\\left(t_{n},y_{n} \\right)}\\\\h f{\\left(\\frac{h}{6} + t_{n},y_{n} + \\frac{k_{0}}{6} \\right)}\\\\h f{\\left(\\frac{4 h}{15} + t_{n},y_{n} + \\frac{4 k_{0}}{75} + \\frac{16 k_{1}}{75} \\right)}\\\\h f{\\left(\\frac{2 h}{3} + t_{n},y_{n} + \\frac{5 k_{0}}{6} - \\frac{8 k_{1}}{3} + \\frac{5 k_{2}}{2} \\right)}\\\\h f{\\left(\\frac{4 h}{5} + t_{n},y_{n} - \\frac{8 k_{0}}{5} + \\frac{144 k_{1}}{25} - 4 k_{2} + \\frac{16 k_{3}}{25} \\right)}\\\\h f{\\left(h + t_{n},y_{n} + \\frac{361 k_{0}}{320} - \\frac{18 k_{1}}{5} + \\frac{407 k_{2}}{128} - \\frac{11 k_{3}}{80} + \\frac{55 k_{4}}{128} \\right)}\\\\h f{\\left(t_{n},y_{n} - \\frac{11 k_{0}}{640} + \\frac{11 k_{2}}{256} - \\frac{11 k_{3}}{160} + \\frac{11 k_{4}}{256} \\right)}\\\\h f{\\left(h + t_{n},y_{n} + \\frac{93 k_{0}}{640} - \\frac{18 k_{1}}{5} + \\frac{803 k_{2}}{256} - \\frac{11 k_{3}}{160} + \\frac{99 k_{4}}{256} + k_{6} \\right)}\\end{matrix}\\right]\n",
    "h \\left(\\frac{31 k_{0}}{384} + \\frac{1125 k_{2}}{2816} + \\frac{9 k_{3}}{32} + \\frac{125 k_{4}}{768} + \\frac{5 k_{5}}{66}\\right) + y_{n}\n",
    "h \\left(\\frac{7 k_{1}}{1408} + \\frac{1125 k_{3}}{2816} + \\frac{9 k_{4}}{32} + \\frac{125 k_{5}}{768} + \\frac{5 k_{7}}{66}\\right) + y_{n}\n",
    "\\frac{h \\left(682 k_{0} - 42 k_{1} + 3375 k_{2} - 999 k_{3} - 1001 k_{4} - 735 k_{5} - 640 k_{7}\\right)}{8448}\n",
    "$$"
   ],
   "metadata": {
    "collapsed": false
   }
  },
  {
   "cell_type": "markdown",
   "source": [
    "# dopri65s\n",
    "$$\n",
    "\\left[\\begin{matrix}h f{\\left(t_{n},y_{n} \\right)}\\\\h f{\\left(\\frac{h}{4} + t_{n},y_{n} + \\frac{k_{0}}{4} \\right)}\\\\h f{\\left(\\frac{3 h}{10} + t_{n},y_{n} + \\frac{3 k_{0}}{25} + \\frac{9 k_{1}}{50} \\right)}\\\\h f{\\left(\\frac{6 h}{7} + t_{n},y_{n} + \\frac{102 k_{0}}{343} - \\frac{1368 k_{1}}{343} + \\frac{1560 k_{2}}{343} \\right)}\\\\h f{\\left(\\frac{3 h}{5} + t_{n},y_{n} - \\frac{3 k_{0}}{100} + \\frac{36 k_{1}}{25} - \\frac{12 k_{2}}{13} + \\frac{147 k_{3}}{1300} \\right)}\\\\h f{\\left(\\frac{4 h}{5} + t_{n},y_{n} + \\frac{37 k_{0}}{225} - \\frac{48 k_{1}}{25} + \\frac{872 k_{2}}{351} + \\frac{49 k_{3}}{1053} + \\frac{2 k_{4}}{81} \\right)}\\\\h f{\\left(h + t_{n},y_{n} + \\frac{11 k_{0}}{648} + \\frac{14 k_{1}}{3} - \\frac{10193 k_{2}}{2106} - \\frac{30331 k_{3}}{50544} + \\frac{1025 k_{4}}{1944} + \\frac{59 k_{5}}{48} \\right)}\\\\h f{\\left(h + t_{n},y_{n} + \\frac{796 k_{0}}{1701} - \\frac{352 k_{1}}{63} + \\frac{134093 k_{2}}{22113} - \\frac{78281 k_{3}}{75816} - \\frac{9425 k_{4}}{20412} + \\frac{781 k_{5}}{504} \\right)}\\end{matrix}\\right]\n",
    "h \\left(\\frac{29 k_{0}}{324} + \\frac{3400 k_{2}}{7371} - \\frac{16807 k_{3}}{25272} - \\frac{125 k_{4}}{1944} + \\frac{25 k_{5}}{24} + \\frac{k_{6}}{84} + \\frac{k_{7}}{8}\\right) + y_{n}\n",
    "h \\left(\\frac{2041 k_{1}}{21600} + \\frac{748 k_{3}}{1755} - \\frac{2401 k_{4}}{46800} + \\frac{11 k_{5}}{108} + \\frac{59 k_{6}}{160} + \\frac{3 k_{7}}{50}\\right) + y_{n}\n",
    "\\frac{h \\left(1583400 k_{0} - 1671579 k_{1} + 8160000 k_{2} - 19304740 k_{3} - 229922 k_{4} + 16625700 k_{5} - 6312735 k_{6} + 1149876 k_{7}\\right)}{17690400}\n",
    "$$"
   ],
   "metadata": {
    "collapsed": false
   }
  },
  {
   "cell_type": "markdown",
   "source": [
    "# dopri65c\n",
    "$$\n",
    "\\left[\\begin{matrix}h f{\\left(t_{n},y_{n} \\right)}\\\\h f{\\left(\\frac{h}{10} + t_{n},y_{n} + \\frac{k_{0}}{10} \\right)}\\\\h f{\\left(\\frac{h}{6} + t_{n},y_{n} + \\frac{k_{0}}{36} + \\frac{5 k_{1}}{36} \\right)}\\\\h f{\\left(\\frac{2 h}{9} + t_{n},y_{n} + \\frac{10 k_{0}}{243} + \\frac{20 k_{1}}{243} + \\frac{8 k_{2}}{81} \\right)}\\\\h f{\\left(\\frac{3 h}{5} + t_{n},y_{n} + \\frac{4047 k_{0}}{5500} - \\frac{18 k_{1}}{55} - \\frac{4212 k_{2}}{1375} + \\frac{17901 k_{3}}{5500} \\right)}\\\\h f{\\left(\\frac{4 h}{5} + t_{n},y_{n} - \\frac{5587 k_{0}}{4125} + \\frac{24 k_{1}}{55} + \\frac{9576 k_{2}}{1375} - \\frac{140049 k_{3}}{23375} + \\frac{38 k_{4}}{51} \\right)}\\\\h f{\\left(h + t_{n},y_{n} + \\frac{12961 k_{0}}{2376} - \\frac{35 k_{1}}{33} - \\frac{160845 k_{2}}{5434} + \\frac{1067565 k_{3}}{38896} - \\frac{103375 k_{4}}{47736} + \\frac{32875 k_{5}}{35568} \\right)}\\\\h f{\\left(h + t_{n},y_{n} + \\frac{702799 k_{0}}{199584} - \\frac{1865 k_{1}}{2772} - \\frac{2891375 k_{2}}{152152} + \\frac{19332955 k_{3}}{1089088} - \\frac{5356375 k_{4}}{4009824} + \\frac{2207875 k_{5}}{2987712} \\right)}\\end{matrix}\\right]\n",
    "h \\left(\\frac{k_{0}}{12} - \\frac{216 k_{2}}{1235} + \\frac{6561 k_{3}}{12376} + \\frac{1375 k_{4}}{5304} + \\frac{1375 k_{5}}{5928} - \\frac{5 k_{6}}{168} + \\frac{k_{7}}{10}\\right) + y_{n}\n",
    "h \\left(\\frac{163 k_{1}}{1440} - \\frac{2628 k_{3}}{6175} + \\frac{13851 k_{4}}{17680} + \\frac{1525 k_{5}}{7956} + \\frac{6575 k_{6}}{23712} + \\frac{3 k_{7}}{50}\\right) + y_{n}\n",
    "\\frac{h \\left(17635800 k_{0} - 23955295 k_{1} - 37013760 k_{2} + 202259916 k_{3} - 110933970 k_{4} + 8522500 k_{5} - 64980375 k_{6} + 8465184 k_{7}\\right)}{211629600}\n",
    "$$"
   ],
   "metadata": {
    "collapsed": false
   }
  },
  {
   "cell_type": "markdown",
   "source": [
    "# dopri65m\n",
    "$$\n",
    "\\left[\\begin{matrix}h f{\\left(t_{n},y_{n} \\right)}\\\\h f{\\left(\\frac{h}{10} + t_{n},y_{n} + \\frac{k_{0}}{10} \\right)}\\\\h f{\\left(\\frac{2 h}{9} + t_{n},y_{n} - \\frac{2 k_{0}}{81} + \\frac{20 k_{1}}{81} \\right)}\\\\h f{\\left(\\frac{3 h}{7} + t_{n},y_{n} + \\frac{615 k_{0}}{1372} - \\frac{270 k_{1}}{343} + \\frac{1053 k_{2}}{1372} \\right)}\\\\h f{\\left(\\frac{3 h}{5} + t_{n},y_{n} + \\frac{3243 k_{0}}{5500} - \\frac{54 k_{1}}{55} + \\frac{50949 k_{2}}{71500} + \\frac{4998 k_{3}}{17875} \\right)}\\\\h f{\\left(\\frac{4 h}{5} + t_{n},y_{n} - \\frac{26492 k_{0}}{37125} + \\frac{72 k_{1}}{55} + \\frac{2808 k_{2}}{23375} - \\frac{24206 k_{3}}{37125} + \\frac{338 k_{4}}{459} \\right)}\\\\h f{\\left(h + t_{n},y_{n} + \\frac{5561 k_{0}}{2376} - \\frac{35 k_{1}}{11} - \\frac{24117 k_{2}}{31603} + \\frac{899983 k_{3}}{200772} - \\frac{5225 k_{4}}{1836} + \\frac{3925 k_{5}}{4056} \\right)}\\\\h f{\\left(h + t_{n},y_{n} + \\frac{465467 k_{0}}{266112} - \\frac{2945 k_{1}}{1232} - \\frac{5610201 k_{2}}{14158144} + \\frac{10513573 k_{3}}{3212352} - \\frac{424325 k_{4}}{205632} + \\frac{376225 k_{5}}{454272} \\right)}\\end{matrix}\\right]\n",
    "h \\left(\\frac{61 k_{0}}{864} + \\frac{98415 k_{2}}{321776} + \\frac{16807 k_{3}}{146016} + \\frac{1375 k_{4}}{7344} + \\frac{1375 k_{5}}{5408} - \\frac{37 k_{6}}{1120} + \\frac{k_{7}}{10}\\right) + y_{n}\n",
    "h \\left(\\frac{821 k_{1}}{10800} + \\frac{19683 k_{3}}{71825} + \\frac{175273 k_{4}}{912600} + \\frac{395 k_{5}}{3672} + \\frac{785 k_{6}}{2704} + \\frac{3 k_{7}}{50}\\right) + y_{n}\n",
    "\\frac{h \\left(30669275 k_{0} - 33022262 k_{1} + 132860250 k_{2} - 69041959 k_{3} - 2098698 k_{4} + 63718375 k_{5} - 140460885 k_{6} + 17375904 k_{7}\\right)}{434397600}\n",
    "$$"
   ],
   "metadata": {
    "collapsed": false
   }
  },
  {
   "cell_type": "markdown",
   "source": [
    "# rk6_7_10_verner\n",
    "$$\n",
    "\\left[\\begin{matrix}h f{\\left(t_{n},y_{n} \\right)}\\\\h f{\\left(\\frac{h}{12} + t_{n},y_{n} + \\frac{k_{0}}{12} \\right)}\\\\h f{\\left(\\frac{h}{6} + t_{n},y_{n} + \\frac{k_{1}}{6} \\right)}\\\\h f{\\left(\\frac{h}{4} + t_{n},y_{n} + \\frac{k_{0}}{16} + \\frac{3 k_{2}}{16} \\right)}\\\\h f{\\left(\\frac{3 h}{4} + t_{n},y_{n} + \\frac{21 k_{0}}{16} - \\frac{81 k_{2}}{16} + \\frac{9 k_{3}}{2} \\right)}\\\\h f{\\left(\\frac{16 h}{17} + t_{n},y_{n} + \\frac{1344688 k_{0}}{250563} - \\frac{1709184 k_{2}}{83521} + \\frac{1365632 k_{3}}{83521} - \\frac{78208 k_{4}}{250563} \\right)}\\\\h f{\\left(\\frac{h}{2} + t_{n},y_{n} - \\frac{559 k_{0}}{384} + 6 k_{2} - \\frac{204 k_{3}}{47} + \\frac{14 k_{4}}{39} - \\frac{4913 k_{5}}{78208} \\right)}\\\\h f{\\left(h + t_{n},y_{n} - \\frac{625 k_{0}}{224} + 12 k_{2} - \\frac{456 k_{3}}{47} + \\frac{48 k_{4}}{91} + \\frac{14739 k_{5}}{136864} + \\frac{6 k_{6}}{7} \\right)}\\\\h f{\\left(\\frac{2 h}{3} + t_{n},y_{n} - \\frac{12253 k_{0}}{99144} + \\frac{16 k_{2}}{27} + \\frac{16 k_{3}}{459} + \\frac{29072 k_{4}}{161109} - \\frac{2023 k_{5}}{75816} + \\frac{112 k_{6}}{12393} \\right)}\\\\h f{\\left(h + t_{n},y_{n} + \\frac{30517 k_{0}}{2512} - \\frac{7296 k_{2}}{157} + \\frac{268728 k_{3}}{7379} + \\frac{2472 k_{4}}{2041} - \\frac{3522621 k_{5}}{10743824} + \\frac{132 k_{6}}{157} - \\frac{12393 k_{8}}{4396} \\right)}\\end{matrix}\\right]\n",
    "h \\left(\\frac{7 k_{0}}{90} + \\frac{16 k_{3}}{45} + \\frac{16 k_{4}}{45} + \\frac{2 k_{6}}{15} + \\frac{7 k_{7}}{90}\\right) + y_{n}\n",
    "h \\left(\\frac{2881 k_{1}}{40320} + \\frac{1216 k_{4}}{2961} - \\frac{2624 k_{5}}{4095} + \\frac{24137569 k_{6}}{57482880} - \\frac{4 k_{7}}{21} + \\frac{4131 k_{9}}{3920}\\right) + y_{n}\n",
    "\\frac{h \\left(13412672 k_{0} - 12322037 k_{1} + 61315072 k_{3} - 9504768 k_{4} + 110501888 k_{5} - 49419555 k_{6} + 46260032 k_{7} - 181730952 k_{9}\\right)}{172448640}\n",
    "$$"
   ],
   "metadata": {
    "collapsed": false
   }
  },
  {
   "cell_type": "markdown",
   "source": [
    "# rkf67\n",
    "$$\n",
    "\\left[\\begin{matrix}h f{\\left(t_{n},y_{n} \\right)}\\\\h f{\\left(\\frac{2 h}{33} + t_{n},y_{n} + \\frac{2 k_{0}}{33} \\right)}\\\\h f{\\left(\\frac{4 h}{33} + t_{n},y_{n} + \\frac{4 k_{1}}{33} \\right)}\\\\h f{\\left(\\frac{2 h}{11} + t_{n},y_{n} + \\frac{k_{0}}{22} + \\frac{3 k_{2}}{22} \\right)}\\\\h f{\\left(\\frac{h}{2} + t_{n},y_{n} + \\frac{43 k_{0}}{64} - \\frac{165 k_{2}}{64} + \\frac{77 k_{3}}{32} \\right)}\\\\h f{\\left(\\frac{2 h}{3} + t_{n},y_{n} - \\frac{2383 k_{0}}{486} + \\frac{1067 k_{2}}{54} - \\frac{26312 k_{3}}{1701} + \\frac{2176 k_{4}}{1701} \\right)}\\\\h f{\\left(\\frac{6 h}{7} + t_{n},y_{n} + \\frac{10077 k_{0}}{4802} - \\frac{5643 k_{2}}{686} + \\frac{116259 k_{3}}{16807} - \\frac{6420 k_{4}}{16807} + \\frac{1053 k_{5}}{2401} \\right)}\\\\h f{\\left(h + t_{n},y_{n} - \\frac{733 k_{0}}{176} + \\frac{141 k_{2}}{8} - \\frac{335763 k_{3}}{23296} + \\frac{216 k_{4}}{77} - \\frac{4617 k_{5}}{2816} + \\frac{7203 k_{6}}{9152} \\right)}\\\\h f{\\left(t_{n},y_{n} + \\frac{15 k_{0}}{352} - \\frac{5445 k_{3}}{46592} + \\frac{18 k_{4}}{77} - \\frac{1215 k_{5}}{5632} + \\frac{1029 k_{6}}{18304} \\right)}\\\\h f{\\left(h + t_{n},y_{n} - \\frac{1833 k_{0}}{352} + \\frac{141 k_{2}}{8} - \\frac{51237 k_{3}}{3584} + \\frac{18 k_{4}}{7} - \\frac{729 k_{5}}{512} + \\frac{1029 k_{6}}{1408} + k_{8} \\right)}\\end{matrix}\\right]\n",
    "h \\left(\\frac{77 k_{0}}{1440} + \\frac{1771561 k_{3}}{6289920} + \\frac{32 k_{4}}{105} + \\frac{243 k_{5}}{2560} + \\frac{16807 k_{6}}{74880} + \\frac{11 k_{7}}{270}\\right) + y_{n}\n",
    "h \\left(\\frac{11 k_{1}}{864} + \\frac{1771561 k_{4}}{6289920} + \\frac{32 k_{5}}{105} + \\frac{243 k_{6}}{2560} + \\frac{16807 k_{7}}{74880} + \\frac{11 k_{9}}{270}\\right) + y_{n}\n",
    "\\frac{h \\left(336336 k_{0} - 80080 k_{1} + 1771561 k_{3} + 145367 k_{4} - 1319877 k_{5} + 814737 k_{6} - 1155532 k_{7} - 256256 k_{9}\\right)}{6289920}\n",
    "$$"
   ],
   "metadata": {
    "collapsed": false
   }
  },
  {
   "cell_type": "markdown",
   "source": [
    "# rk7_8_13_verner\n",
    "$$\n",
    "\\left[\\begin{matrix}h f{\\left(t_{n},y_{n} \\right)}\\\\h f{\\left(\\frac{h}{4} + t_{n},y_{n} + \\frac{k_{0}}{4} \\right)}\\\\h f{\\left(\\frac{h}{12} + t_{n},y_{n} + \\frac{5 k_{0}}{72} + \\frac{k_{1}}{72} \\right)}\\\\h f{\\left(\\frac{h}{8} + t_{n},y_{n} + \\frac{k_{0}}{32} + \\frac{3 k_{2}}{32} \\right)}\\\\h f{\\left(\\frac{2 h}{5} + t_{n},y_{n} + \\frac{106 k_{0}}{125} - \\frac{408 k_{2}}{125} + \\frac{352 k_{3}}{125} \\right)}\\\\h f{\\left(\\frac{h}{2} + t_{n},y_{n} + \\frac{k_{0}}{48} + \\frac{8 k_{3}}{33} + \\frac{125 k_{4}}{528} \\right)}\\\\h f{\\left(\\frac{6 h}{7} + t_{n},y_{n} - \\frac{1263 k_{0}}{2401} + \\frac{39936 k_{3}}{26411} - \\frac{64125 k_{4}}{26411} + \\frac{5520 k_{5}}{2401} \\right)}\\\\h f{\\left(\\frac{h}{7} + t_{n},y_{n} + \\frac{37 k_{0}}{392} + \\frac{1625 k_{4}}{9408} - \\frac{2 k_{5}}{15} + \\frac{61 k_{6}}{6720} \\right)}\\\\h f{\\left(\\frac{2 h}{3} + t_{n},y_{n} + \\frac{17176 k_{0}}{25515} - \\frac{47104 k_{3}}{25515} + \\frac{1325 k_{4}}{504} - \\frac{41792 k_{5}}{25515} + \\frac{20237 k_{6}}{145800} + \\frac{4312 k_{7}}{6075} \\right)}\\\\h f{\\left(\\frac{2 h}{7} + t_{n},y_{n} - \\frac{23834 k_{0}}{180075} - \\frac{77824 k_{3}}{1980825} - \\frac{636635 k_{4}}{633864} + \\frac{254048 k_{5}}{300125} - \\frac{183 k_{6}}{7000} + \\frac{8 k_{7}}{11} - \\frac{324 k_{8}}{3773} \\right)}\\\\h f{\\left(h + t_{n},y_{n} + \\frac{12733 k_{0}}{7600} - \\frac{20032 k_{3}}{5225} + \\frac{456485 k_{4}}{80256} - \\frac{42599 k_{5}}{7125} + \\frac{339227 k_{6}}{912000} - \\frac{1029 k_{7}}{4180} + \\frac{1701 k_{8}}{1408} + \\frac{5145 k_{9}}{2432} \\right)}\\\\h f{\\left(\\frac{h}{3} + t_{n},y_{n} - \\frac{27061 k_{0}}{204120} + \\frac{40448 k_{3}}{280665} - \\frac{1353775 k_{4}}{1197504} + \\frac{17662 k_{5}}{25515} - \\frac{71687 k_{6}}{1166400} + \\frac{98 k_{7}}{225} + \\frac{k_{8}}{16} + \\frac{3773 k_{9}}{11664} \\right)}\\\\h f{\\left(h + t_{n},y_{n} + \\frac{11203 k_{0}}{8680} + \\frac{729 k_{11}}{341} - \\frac{38144 k_{3}}{11935} + \\frac{2354425 k_{4}}{458304} - \\frac{84046 k_{5}}{16275} + \\frac{673309 k_{6}}{1636800} + \\frac{4704 k_{7}}{8525} + \\frac{9477 k_{8}}{10912} - \\frac{1029 k_{9}}{992} \\right)}\\end{matrix}\\right]\n",
    "h \\left(\\frac{13 k_{0}}{288} + \\frac{k_{10}}{50} + \\frac{32 k_{5}}{125} + \\frac{31213 k_{6}}{144000} + \\frac{2401 k_{7}}{12375} + \\frac{1701 k_{8}}{14080} + \\frac{2401 k_{9}}{19200}\\right) + y_{n}\n",
    "h \\left(\\frac{243 k_{12}}{1760} + \\frac{31 k_{1}}{720} + \\frac{16 k_{6}}{75} + \\frac{16807 k_{7}}{79200} + \\frac{16807 k_{8}}{79200} + \\frac{243 k_{9}}{1760}\\right) + y_{n}\n",
    "\\frac{h \\left(143000 k_{0} + 63360 k_{10} - 437400 k_{12} - 136400 k_{1} + 811008 k_{5} + 10846 k_{6} - 57624 k_{7} - 289555 k_{8} - 41235 k_{9}\\right)}{3168000}\n",
    "$$"
   ],
   "metadata": {
    "collapsed": false
   }
  },
  {
   "cell_type": "markdown",
   "source": [
    "# rkf78\n",
    "$$\n",
    "\\left[\\begin{matrix}h f{\\left(t_{n},y_{n} \\right)}\\\\h f{\\left(\\frac{2 h}{27} + t_{n},y_{n} + \\frac{2 k_{0}}{27} \\right)}\\\\h f{\\left(\\frac{h}{9} + t_{n},y_{n} + \\frac{k_{0}}{36} + \\frac{k_{1}}{12} \\right)}\\\\h f{\\left(\\frac{h}{6} + t_{n},y_{n} + \\frac{k_{0}}{24} + \\frac{k_{2}}{8} \\right)}\\\\h f{\\left(\\frac{5 h}{12} + t_{n},y_{n} + \\frac{5 k_{0}}{12} - \\frac{25 k_{2}}{16} + \\frac{25 k_{3}}{16} \\right)}\\\\h f{\\left(\\frac{h}{2} + t_{n},y_{n} + \\frac{k_{0}}{20} + \\frac{k_{3}}{4} + \\frac{k_{4}}{5} \\right)}\\\\h f{\\left(\\frac{5 h}{6} + t_{n},y_{n} - \\frac{25 k_{0}}{108} + \\frac{125 k_{3}}{108} - \\frac{65 k_{4}}{27} + \\frac{125 k_{5}}{54} \\right)}\\\\h f{\\left(\\frac{h}{6} + t_{n},y_{n} + \\frac{31 k_{0}}{300} + \\frac{61 k_{4}}{225} - \\frac{2 k_{5}}{9} + \\frac{13 k_{6}}{900} \\right)}\\\\h f{\\left(\\frac{2 h}{3} + t_{n},y_{n} + 2 k_{0} - \\frac{53 k_{3}}{6} + \\frac{704 k_{4}}{45} - \\frac{107 k_{5}}{9} + \\frac{67 k_{6}}{90} + 3 k_{7} \\right)}\\\\h f{\\left(\\frac{h}{3} + t_{n},y_{n} - \\frac{91 k_{0}}{108} + \\frac{23 k_{3}}{108} - \\frac{976 k_{4}}{135} + \\frac{311 k_{5}}{54} - \\frac{19 k_{6}}{60} + \\frac{17 k_{7}}{6} - \\frac{k_{8}}{12} \\right)}\\\\h f{\\left(h + t_{n},y_{n} + \\frac{2383 k_{0}}{4100} - \\frac{341 k_{3}}{164} + \\frac{4496 k_{4}}{1025} - \\frac{301 k_{5}}{82} + \\frac{2133 k_{6}}{4100} + \\frac{45 k_{7}}{82} + \\frac{45 k_{8}}{164} + \\frac{18 k_{9}}{41} \\right)}\\\\h f{\\left(t_{n},y_{n} + \\frac{3 k_{0}}{205} - \\frac{6 k_{5}}{41} - \\frac{3 k_{6}}{205} - \\frac{3 k_{7}}{41} + \\frac{3 k_{8}}{41} + \\frac{6 k_{9}}{41} \\right)}\\\\h f{\\left(h + t_{n},y_{n} + \\frac{1777 k_{0}}{4100} + k_{11} - \\frac{341 k_{3}}{164} + \\frac{4496 k_{4}}{1025} - \\frac{289 k_{5}}{82} + \\frac{2193 k_{6}}{4100} + \\frac{51 k_{7}}{82} + \\frac{33 k_{8}}{164} + \\frac{12 k_{9}}{41} \\right)}\\end{matrix}\\right]\n",
    "h \\left(\\frac{41 k_{0}}{840} + \\frac{41 k_{10}}{840} + \\frac{34 k_{5}}{105} + \\frac{9 k_{6}}{35} + \\frac{9 k_{7}}{35} + \\frac{9 k_{8}}{280} + \\frac{9 k_{9}}{280}\\right) + y_{n}\n",
    "h \\left(\\frac{9 k_{10}}{280} + \\frac{41 k_{12}}{840} + \\frac{34 k_{6}}{105} + \\frac{9 k_{7}}{35} + \\frac{9 k_{8}}{35} + \\frac{9 k_{9}}{280}\\right) + y_{n}\n",
    "\\frac{h \\left(41 k_{0} + 14 k_{10} - 41 k_{12} + 272 k_{5} - 56 k_{6} - 189 k_{8}\\right)}{840}\n",
    "$$"
   ],
   "metadata": {
    "collapsed": false
   }
  },
  {
   "cell_type": "markdown",
   "metadata": {},
   "source": [
    "# rk8_7_13m\n",
    "$$\n",
    "\\left[\\begin{matrix}h f{\\left(t_{n},y_{n} \\right)}\\\\h f{\\left(\\frac{h}{18} + t_{n},y_{n} + \\frac{k_{0}}{18} \\right)}\\\\h f{\\left(\\frac{h}{12} + t_{n},y_{n} + \\frac{k_{0}}{48} + \\frac{k_{1}}{16} \\right)}\\\\h f{\\left(\\frac{h}{8} + t_{n},y_{n} + \\frac{k_{0}}{32} + \\frac{3 k_{2}}{32} \\right)}\\\\h f{\\left(\\frac{5 h}{16} + t_{n},y_{n} + \\frac{5 k_{0}}{16} - \\frac{75 k_{2}}{64} + \\frac{75 k_{3}}{64} \\right)}\\\\h f{\\left(\\frac{3 h}{8} + t_{n},y_{n} + \\frac{3 k_{0}}{80} + \\frac{3 k_{3}}{16} + \\frac{3 k_{4}}{20} \\right)}\\\\h f{\\left(\\frac{59 h}{400} + t_{n},y_{n} + \\frac{29443841 k_{0}}{614563906} + \\frac{77736538 k_{3}}{692538347} - \\frac{28693883 k_{4}}{1125000000} + \\frac{23124283 k_{5}}{1800000000} \\right)}\\\\h f{\\left(\\frac{93 h}{200} + t_{n},y_{n} + \\frac{16016141 k_{0}}{946692911} + \\frac{61564180 k_{3}}{158732637} + \\frac{22789713 k_{4}}{633445777} + \\frac{545815736 k_{5}}{2771057229} - \\frac{180193667 k_{6}}{1043307555} \\right)}\\\\h f{\\left(\\frac{5490023248 h}{9719169821} + t_{n},y_{n} + \\frac{39632708 k_{0}}{573591083} - \\frac{433636366 k_{3}}{683701615} - \\frac{421739975 k_{4}}{2616292301} + \\frac{100302831 k_{5}}{723423059} + \\frac{790204164 k_{6}}{839813087} + \\frac{800635310 k_{7}}{3783071287} \\right)}\\\\h f{\\left(\\frac{13 h}{20} + t_{n},y_{n} + \\frac{246121993 k_{0}}{1340847787} - \\frac{37695042795 k_{3}}{15268766246} - \\frac{309121744 k_{4}}{1061227803} - \\frac{12992083 k_{5}}{490766935} + \\frac{6005943493 k_{6}}{2108947869} + \\frac{393006217 k_{7}}{1396673457} + \\frac{123872331 k_{8}}{1001029789} \\right)}\\\\h f{\\left(\\frac{1201146811 h}{1299019798} + t_{n},y_{n} - \\frac{1028468189 k_{0}}{846180014} + \\frac{8478235783 k_{3}}{508512852} + \\frac{1311729495 k_{4}}{1432422823} - \\frac{10304129995 k_{5}}{1701304382} - \\frac{48777925059 k_{6}}{3047939560} + \\frac{15336726248 k_{7}}{1032824649} - \\frac{45442868181 k_{8}}{3398467696} + \\frac{3065993473 k_{9}}{597172653} \\right)}\\\\h f{\\left(h + t_{n},y_{n} + \\frac{185892177 k_{0}}{718116043} + \\frac{65686358 k_{10}}{487910083} - \\frac{3185094517 k_{3}}{667107341} - \\frac{477755414 k_{4}}{1098053517} - \\frac{703635378 k_{5}}{230739211} + \\frac{5731566787 k_{6}}{1027545527} + \\frac{5232866602 k_{7}}{850066563} - \\frac{4093664535 k_{8}}{808688257} + \\frac{3962137247 k_{9}}{1805957418} \\right)}\\\\h f{\\left(h + t_{n},y_{n} + \\frac{403863854 k_{0}}{491063109} - \\frac{5068492393 k_{3}}{434740067} - \\frac{411421997 k_{4}}{543043805} + \\frac{652783627 k_{5}}{914296604} + \\frac{11173962825 k_{6}}{925320556} - \\frac{13158990841 k_{7}}{6184727034} + \\frac{3936647629 k_{8}}{1978049680} + \\frac{248638103 k_{9}}{1413531060} \\right)}\\end{matrix}\\right]\n",
    "h \\left(\\frac{14005451 k_{0}}{335480064} + \\frac{118820643 k_{10}}{751138087} - \\frac{528747749 k_{11}}{2220607170} + \\frac{k_{12}}{4} - \\frac{59238493 k_{5}}{1068277825} + \\frac{181606767 k_{6}}{758867731} + \\frac{561292985 k_{7}}{797845732} - \\frac{1041891430 k_{8}}{1371343529} + \\frac{760417239 k_{9}}{1151165299}\\right) + y_{n}\n",
    "h \\left(\\frac{465885868 k_{10}}{322736535} + \\frac{53011238 k_{11}}{667516719} + \\frac{2 k_{12}}{45} + \\frac{13451932 k_{1}}{455176623} - \\frac{808719846 k_{6}}{976000145} + \\frac{1757004468 k_{7}}{5645159321} + \\frac{656045339 k_{8}}{265891186} - \\frac{3867574721 k_{9}}{1518517206}\\right) + y_{n}\n",
    "\\frac{h \\left(17619087883938716424935108651629711224859722279723863471174680849913440807147922562684095649787657662162176689835042361825 k_{0} - 542473082448838289217201277028030554220324270580969801782941341768247176178013675764436554111061292964740459831183454429440 k_{10} - 134008130776279244412180299501456126066149633801336690248947187852873474269719041095054828912551683386795980419556368370560 k_{11} + 86752552053656842792320255842981144890040768488675326773588579986232112255737378648524168496091963772515558536835733917120 k_{12} - 12472621821781784332187404280338561099357573108478316217500519294631841564576763884376386391779558054169304428941991091200 k_{1} - 23403069848155246306549351543409057473797740393062772238819488095268263022349516835372091976359153124543789736293883982592 k_{5} + 450703974633185709981128266964710109550288728737442599606682317040466663195630321190822224995623129793172667632571347498240 k_{6} + 165553314736930597172297060886118019452373239667667555105651245315205209088420497009445995253528467062443727261532957169600 k_{7} - 1361965512296246601386378661810613633086383795598324142468366000294478895017970833847441294578959680550206594575109256579200 k_{8} + 1353693487883589297403034691253940888433907549164968630145053954148503112937913315029866011744527744181257598176928608393600 k_{9}\\right)}{422039442423195451422098541938827191356955089944906995114755253987075140703587247479306765656663607541967582071092759596800}\n",
    "$$"
   ]
  },
  {
   "cell_type": "markdown",
   "metadata": {
    "nteract": {
     "transient": {
      "deleting": false
     }
    }
   },
   "source": [
    "# rk8_9_16\n",
    "$$\\left[\\begin{matrix}h f{\\left(t_{n},y_{n} \\right)}\\\\h f{\\left(\\frac{h}{12} + t_{n},y_{n} + \\frac{k_{0}}{12} \\right)}\\\\h f{\\left(\\frac{h}{9} + t_{n},y_{n} + \\frac{k_{0}}{27} + \\frac{2 k_{1}}{27} \\right)}\\\\h f{\\left(\\frac{h}{6} + t_{n},y_{n} + \\frac{k_{0}}{24} + \\frac{k_{2}}{8} \\right)}\\\\h f{\\left(h \\left(\\frac{2}{15} + \\frac{2 \\sqrt{6}}{15}\\right) + t_{n},y_{n} + \\left(\\frac{4}{375} + \\frac{94 \\sqrt{6}}{375}\\right) k_{0} + \\left(- \\frac{84 \\sqrt{6}}{125} - \\frac{94}{125}\\right) k_{2} + \\left(\\frac{328}{375} + \\frac{208 \\sqrt{6}}{375}\\right) k_{3} \\right)}\\\\h f{\\left(h \\left(\\frac{\\sqrt{6}}{15} + \\frac{2}{5}\\right) + t_{n},y_{n} + \\left(\\frac{3}{50} - \\frac{\\sqrt{6}}{150}\\right) k_{0} + \\left(\\frac{32 \\sqrt{6}}{1425} + \\frac{104}{475}\\right) k_{3} + \\left(\\frac{23}{190} + \\frac{29 \\sqrt{6}}{570}\\right) k_{4} \\right)}\\\\h f{\\left(h \\left(\\frac{2}{5} - \\frac{\\sqrt{6}}{15}\\right) + t_{n},y_{n} + \\left(\\frac{927}{1250} - \\frac{347 \\sqrt{6}}{1250}\\right) k_{0} + \\left(- \\frac{5416}{3125} + \\frac{7328 \\sqrt{6}}{9375}\\right) k_{3} + \\left(- \\frac{163}{1250} + \\frac{179 \\sqrt{6}}{3750}\\right) k_{4} + \\left(\\frac{4756}{3125} - \\frac{5798 \\sqrt{6}}{9375}\\right) k_{5} \\right)}\\\\h f{\\left(\\frac{2 h}{3} + t_{n},y_{n} + \\frac{2 k_{0}}{27} + \\left(\\frac{8}{27} - \\frac{\\sqrt{6}}{54}\\right) k_{5} + \\left(\\frac{\\sqrt{6}}{54} + \\frac{8}{27}\\right) k_{6} \\right)}\\\\h f{\\left(\\frac{h}{2} + t_{n},y_{n} + \\frac{19 k_{0}}{256} + \\left(\\frac{59}{256} - \\frac{23 \\sqrt{6}}{512}\\right) k_{5} + \\left(\\frac{23 \\sqrt{6}}{512} + \\frac{59}{256}\\right) k_{6} - \\frac{9 k_{7}}{256} \\right)}\\\\h f{\\left(\\frac{h}{3} + t_{n},y_{n} + \\frac{11 k_{0}}{144} + \\left(\\frac{133}{432} - \\frac{\\sqrt{6}}{864}\\right) k_{5} + \\left(\\frac{\\sqrt{6}}{864} + \\frac{133}{432}\\right) k_{6} - \\frac{k_{7}}{16} - \\frac{8 k_{8}}{27} \\right)}\\\\h f{\\left(\\frac{h}{4} + t_{n},y_{n} + \\left(\\frac{839}{10240} - \\frac{271 \\sqrt{6}}{61440}\\right) k_{0} + \\left(\\frac{7859}{10240} - \\frac{813 \\sqrt{6}}{5120}\\right) k_{6} + \\left(- \\frac{279}{2560} + \\frac{813 \\sqrt{6}}{20480}\\right) k_{7} + \\left(- \\frac{99}{160} + \\frac{271 \\sqrt{6}}{960}\\right) k_{8} + \\left(\\frac{657}{5120} - \\frac{813 \\sqrt{6}}{5120}\\right) k_{9} \\right)}\\\\h f{\\left(\\frac{4 h}{3} + t_{n},y_{n} + \\left(\\frac{5996}{405} - \\frac{3794 \\sqrt{6}}{405}\\right) k_{0} - \\frac{26624 k_{10}}{81} + \\left(- \\frac{4342}{9} - \\frac{338 \\sqrt{6}}{9}\\right) k_{5} + \\left(\\frac{154922}{135} - \\frac{13486 \\sqrt{6}}{45}\\right) k_{6} + \\left(- \\frac{464}{5} + \\frac{3794 \\sqrt{6}}{45}\\right) k_{7} + \\left(- \\frac{340864}{405} + \\frac{242816 \\sqrt{6}}{405}\\right) k_{8} + \\left(\\frac{8768}{15} - \\frac{15176 \\sqrt{6}}{45}\\right) k_{9} \\right)}\\\\h f{\\left(\\frac{5 h}{6} + t_{n},y_{n} + \\left(\\frac{3793}{103680} + \\frac{271 \\sqrt{6}}{12960}\\right) k_{0} + \\frac{2624 k_{10}}{1053} + \\frac{3 k_{11}}{1664} + \\left(\\frac{2021}{6912} + \\frac{2263 \\sqrt{6}}{13824}\\right) k_{5} + \\left(- \\frac{115639}{34560} + \\frac{40717 \\sqrt{6}}{69120}\\right) k_{6} + \\left(\\frac{883}{1280} - \\frac{271 \\sqrt{6}}{1440}\\right) k_{7} + \\left(\\frac{1048}{405} - \\frac{542 \\sqrt{6}}{405}\\right) k_{8} + \\left(- \\frac{461}{240} + \\frac{271 \\sqrt{6}}{360}\\right) k_{9} \\right)}\\\\h f{\\left(h + t_{n},y_{n} - \\frac{137 k_{0}}{1296} - \\frac{5120 k_{10}}{1053} - \\frac{11 k_{11}}{468} + \\frac{16 k_{12}}{9} + \\left(\\frac{2821}{432} - \\frac{337 \\sqrt{6}}{864}\\right) k_{5} + \\left(\\frac{337 \\sqrt{6}}{864} + \\frac{2821}{432}\\right) k_{6} - \\frac{299 k_{7}}{48} + \\frac{184 k_{8}}{81} - \\frac{44 k_{9}}{9} \\right)}\\\\h f{\\left(\\frac{h}{6} + t_{n},y_{n} + \\left(\\frac{33617}{518400} - \\frac{271 \\sqrt{6}}{64800}\\right) k_{0} + \\frac{320 k_{10}}{567} - \\frac{k_{11}}{1920} + \\frac{4 k_{12}}{105} + \\left(- \\frac{641}{2304} + \\frac{31 \\sqrt{6}}{13824}\\right) k_{5} + \\left(\\frac{77669}{172800} - \\frac{52807 \\sqrt{6}}{345600}\\right) k_{6} + \\left(- \\frac{1393}{6400} + \\frac{271 \\sqrt{6}}{7200}\\right) k_{7} + \\left(\\frac{92}{2025} + \\frac{542 \\sqrt{6}}{2025}\\right) k_{8} + \\left(- \\frac{599}{1200} - \\frac{271 \\sqrt{6}}{1800}\\right) k_{9} \\right)}\\\\h f{\\left(h + t_{n},y_{n} + \\left(- \\frac{1897 \\sqrt{6}}{17475} - \\frac{36487}{279600}\\right) k_{0} - \\frac{169984 k_{10}}{9087} - \\frac{87 k_{11}}{30290} + \\frac{492 k_{12}}{1165} + \\frac{1260 k_{14}}{233} + \\left(- \\frac{14833}{3728} - \\frac{4499 \\sqrt{6}}{7456}\\right) k_{5} + \\left(\\frac{1389591}{93200} - \\frac{615973 \\sqrt{6}}{186400}\\right) k_{6} + \\left(- \\frac{94329}{93200} + \\frac{5691 \\sqrt{6}}{5825}\\right) k_{7} + \\left(- \\frac{232192}{17475} + \\frac{121408 \\sqrt{6}}{17475}\\right) k_{8} + \\left(\\frac{101226}{5825} - \\frac{22764 \\sqrt{6}}{5825}\\right) k_{9} \\right)}\\end{matrix}\\right]$$\n",
    "\n",
    "$$h \\left(\\frac{103 k_{0}}{1680} + \\frac{1024 k_{10}}{1365} + \\frac{3 k_{11}}{7280} + \\frac{12 k_{12}}{35} + \\frac{9 k_{13}}{280} - \\frac{27 k_{7}}{140} + \\frac{76 k_{8}}{105} - \\frac{201 k_{9}}{280}\\right) + y_{n}$$\n",
    "$$h \\left(\\frac{93 k_{10}}{280} - \\frac{2048 k_{11}}{6825} - \\frac{3 k_{12}}{18200} + \\frac{39 k_{13}}{175} + \\frac{9 k_{15}}{25} + \\frac{23 k_{1}}{525} + \\frac{171 k_{8}}{1400} + \\frac{86 k_{9}}{525}\\right) + y_{n}$$\n",
    "$$\\frac{h \\left(6695 k_{0} + 45650 k_{10} + 32813 k_{11} + 37458 k_{12} - 20826 k_{13} - 39312 k_{15} - 4784 k_{1} - 21060 k_{7} + 65702 k_{8} - 96278 k_{9}\\right)}{109200}$$"
   ]
  },
  {
   "cell_type": "markdown",
   "source": [],
   "metadata": {
    "nteract": {
     "transient": {
      "deleting": false
     }
    }
   }
  },
  {
   "cell_type": "markdown",
   "source": [],
   "metadata": {
    "nteract": {
     "transient": {
      "deleting": false
     }
    }
   }
  },
  {
   "cell_type": "markdown",
   "source": [],
   "metadata": {
    "nteract": {
     "transient": {
      "deleting": false
     }
    }
   }
  }
 ],
 "metadata": {
  "kernel_info": {
   "name": "python3"
  },
  "kernelspec": {
   "name": "vpython",
   "language": "python",
   "display_name": "VPython"
  },
  "language_info": {
   "name": "python",
   "version": "3.8.3",
   "mimetype": "text/x-python",
   "codemirror_mode": {
    "name": "ipython",
    "version": 3
   },
   "pygments_lexer": "ipython3",
   "nbconvert_exporter": "python",
   "file_extension": ".py"
  },
  "nteract": {
   "version": "0.24.0"
  }
 },
 "nbformat": 4,
 "nbformat_minor": 4
}