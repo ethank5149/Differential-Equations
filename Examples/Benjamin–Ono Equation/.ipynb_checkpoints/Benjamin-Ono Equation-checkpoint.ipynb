{
 "cells": [
  {
   "cell_type": "code",
   "execution_count": 20,
   "metadata": {},
   "outputs": [],
   "source": [
    "import sympy as sp\n",
    "from sympy import oo\n",
    "\n",
    "sp.init_printing(use_unicode=True)"
   ]
  },
  {
   "cell_type": "code",
   "execution_count": 25,
   "metadata": {},
   "outputs": [
    {
     "name": "stdout",
     "output_type": "stream",
     "text": [
      "                                                 ∞            \n",
      "                                      2          ⌠            \n",
      "                                     ∂           ⎮  u(T, x)   \n",
      "                                    ───(u(t, x))⋅⎮  ─────── dT\n",
      "                                      2          ⎮   -T + t   \n",
      "                                    ∂x           ⌡            \n",
      "        ∂             ∂                          -∞           \n",
      "u(t, x)⋅──(u(t, x)) + ──(u(t, x)) + ──────────────────────────\n",
      "        ∂x            ∂t                        π             \n"
     ]
    }
   ],
   "source": [
    "t, T, x = sp.symbols('t T x')\n",
    "u = sp.Function('u')(t,x)\n",
    "def H(u):\n",
    "    return sp.integrate(u.subs(t,T)/(t-T),(T,-oo,oo))/sp.pi\n",
    "pde = u.diff(t)+u*u.diff(x)+H(u.diff(x,x))\n",
    "sp.pprint(pde)"
   ]
  },
  {
   "cell_type": "code",
   "execution_count": null,
   "metadata": {},
   "outputs": [],
   "source": []
  }
 ],
 "metadata": {
  "kernelspec": {
   "display_name": "Python 3",
   "language": "python",
   "name": "python3"
  },
  "language_info": {
   "codemirror_mode": {
    "name": "ipython",
    "version": 3
   },
   "file_extension": ".py",
   "mimetype": "text/x-python",
   "name": "python",
   "nbconvert_exporter": "python",
   "pygments_lexer": "ipython3",
   "version": "3.7.7"
  }
 },
 "nbformat": 4,
 "nbformat_minor": 4
}
